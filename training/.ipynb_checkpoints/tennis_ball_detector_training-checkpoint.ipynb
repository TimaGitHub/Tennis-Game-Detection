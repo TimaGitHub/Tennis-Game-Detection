{
 "cells": [
  {
   "cell_type": "code",
   "execution_count": 4,
   "id": "f258ef68",
   "metadata": {
    "collapsed": true
   },
   "outputs": [
    {
     "name": "stdout",
     "output_type": "stream",
     "text": [
      "Requirement already satisfied: roboflow in c:\\users\\acer\\anaconda3\\lib\\site-packages (1.1.28)\n",
      "Requirement already satisfied: certifi==2023.7.22 in c:\\users\\acer\\anaconda3\\lib\\site-packages (from roboflow) (2023.7.22)\n",
      "Requirement already satisfied: chardet==4.0.0 in c:\\users\\acer\\anaconda3\\lib\\site-packages (from roboflow) (4.0.0)\n",
      "Requirement already satisfied: cycler==0.10.0 in c:\\users\\acer\\anaconda3\\lib\\site-packages (from roboflow) (0.10.0)\n",
      "Requirement already satisfied: idna==2.10 in c:\\users\\acer\\anaconda3\\lib\\site-packages (from roboflow) (2.10)\n",
      "Requirement already satisfied: kiwisolver>=1.3.1 in c:\\users\\acer\\anaconda3\\lib\\site-packages (from roboflow) (1.3.1)\n",
      "Requirement already satisfied: matplotlib in c:\\users\\acer\\anaconda3\\lib\\site-packages (from roboflow) (3.8.2)\n",
      "Requirement already satisfied: numpy>=1.18.5 in c:\\users\\acer\\anaconda3\\lib\\site-packages (from roboflow) (1.26.4)\n",
      "Requirement already satisfied: opencv-python-headless==4.8.0.74 in c:\\users\\acer\\anaconda3\\lib\\site-packages (from roboflow) (4.8.0.74)\n",
      "Requirement already satisfied: Pillow>=7.1.2 in c:\\users\\acer\\anaconda3\\lib\\site-packages (from roboflow) (10.2.0)\n",
      "Requirement already satisfied: python-dateutil in c:\\users\\acer\\anaconda3\\lib\\site-packages (from roboflow) (2.8.2)\n",
      "Requirement already satisfied: python-dotenv in c:\\users\\acer\\anaconda3\\lib\\site-packages (from roboflow) (0.21.0)\n",
      "Requirement already satisfied: requests in c:\\users\\acer\\anaconda3\\lib\\site-packages (from roboflow) (2.26.0)\n",
      "Requirement already satisfied: six in c:\\users\\acer\\anaconda3\\lib\\site-packages (from roboflow) (1.16.0)\n",
      "Requirement already satisfied: urllib3>=1.26.6 in c:\\users\\acer\\anaconda3\\lib\\site-packages (from roboflow) (1.26.7)\n",
      "Requirement already satisfied: tqdm>=4.41.0 in c:\\users\\acer\\anaconda3\\lib\\site-packages (from roboflow) (4.62.3)\n",
      "Requirement already satisfied: PyYAML>=5.3.1 in c:\\users\\acer\\anaconda3\\lib\\site-packages (from roboflow) (6.0)\n",
      "Requirement already satisfied: requests-toolbelt in c:\\users\\acer\\anaconda3\\lib\\site-packages (from roboflow) (1.0.0)\n",
      "Requirement already satisfied: python-magic in c:\\users\\acer\\anaconda3\\lib\\site-packages (from roboflow) (0.4.27)\n",
      "Requirement already satisfied: colorama in c:\\users\\acer\\anaconda3\\lib\\site-packages (from tqdm>=4.41.0->roboflow) (0.4.4)\n",
      "Requirement already satisfied: contourpy>=1.0.1 in c:\\users\\acer\\anaconda3\\lib\\site-packages (from matplotlib->roboflow) (1.2.0)\n",
      "Requirement already satisfied: fonttools>=4.22.0 in c:\\users\\acer\\anaconda3\\lib\\site-packages (from matplotlib->roboflow) (4.25.0)\n",
      "Requirement already satisfied: packaging>=20.0 in c:\\users\\acer\\anaconda3\\lib\\site-packages (from matplotlib->roboflow) (21.0)\n",
      "Requirement already satisfied: pyparsing>=2.3.1 in c:\\users\\acer\\anaconda3\\lib\\site-packages (from matplotlib->roboflow) (3.0.4)\n",
      "Requirement already satisfied: importlib-resources>=3.2.0 in c:\\users\\acer\\anaconda3\\lib\\site-packages (from matplotlib->roboflow) (6.1.1)\n",
      "Requirement already satisfied: charset-normalizer~=2.0.0 in c:\\users\\acer\\anaconda3\\lib\\site-packages (from requests->roboflow) (2.0.4)\n",
      "Requirement already satisfied: zipp>=3.1.0 in c:\\users\\acer\\anaconda3\\lib\\site-packages (from importlib-resources>=3.2.0->matplotlib->roboflow) (3.6.0)\n"
     ]
    },
    {
     "name": "stderr",
     "output_type": "stream",
     "text": [
      "DEPRECATION: pyodbc 4.0.0-unsupported has a non-standard version number. pip 24.1 will enforce this behaviour change. A possible replacement is to upgrade to a newer version of pyodbc or contact the author to suggest that they release a version with a conforming version number. Discussion can be found at https://github.com/pypa/pip/issues/12063\n"
     ]
    },
    {
     "name": "stdout",
     "output_type": "stream",
     "text": [
      "Collecting ultralytics\n",
      "  Downloading ultralytics-8.2.15-py3-none-any.whl.metadata (40 kB)\n",
      "     -------------------------------------- 40.7/40.7 kB 662.0 kB/s eta 0:00:00\n",
      "Requirement already satisfied: matplotlib>=3.3.0 in c:\\users\\acer\\anaconda3\\lib\\site-packages (from ultralytics) (3.8.2)\n",
      "Collecting opencv-python>=4.6.0 (from ultralytics)\n",
      "  Downloading opencv_python-4.9.0.80-cp37-abi3-win_amd64.whl.metadata (20 kB)\n",
      "Requirement already satisfied: pillow>=7.1.2 in c:\\users\\acer\\anaconda3\\lib\\site-packages (from ultralytics) (10.2.0)\n",
      "Requirement already satisfied: pyyaml>=5.3.1 in c:\\users\\acer\\anaconda3\\lib\\site-packages (from ultralytics) (6.0)\n",
      "Requirement already satisfied: requests>=2.23.0 in c:\\users\\acer\\anaconda3\\lib\\site-packages (from ultralytics) (2.26.0)\n",
      "Requirement already satisfied: scipy>=1.4.1 in c:\\users\\acer\\anaconda3\\lib\\site-packages (from ultralytics) (1.12.0)\n",
      "Requirement already satisfied: torch>=1.8.0 in c:\\users\\acer\\anaconda3\\lib\\site-packages (from ultralytics) (1.12.1)\n",
      "Requirement already satisfied: torchvision>=0.9.0 in c:\\users\\acer\\anaconda3\\lib\\site-packages (from ultralytics) (0.13.1a0)\n",
      "Collecting tqdm>=4.64.0 (from ultralytics)\n",
      "  Downloading tqdm-4.66.4-py3-none-any.whl.metadata (57 kB)\n",
      "     -------------------------------------- 57.6/57.6 kB 751.0 kB/s eta 0:00:00\n",
      "Requirement already satisfied: psutil in c:\\users\\acer\\anaconda3\\lib\\site-packages (from ultralytics) (5.8.0)\n",
      "Collecting py-cpuinfo (from ultralytics)\n",
      "  Downloading py_cpuinfo-9.0.0-py3-none-any.whl.metadata (794 bytes)\n",
      "Collecting thop>=0.1.1 (from ultralytics)\n",
      "  Downloading thop-0.1.1.post2209072238-py3-none-any.whl.metadata (2.7 kB)\n",
      "Requirement already satisfied: pandas>=1.1.4 in c:\\users\\acer\\anaconda3\\lib\\site-packages (from ultralytics) (1.3.4)\n",
      "Requirement already satisfied: seaborn>=0.11.0 in c:\\users\\acer\\anaconda3\\lib\\site-packages (from ultralytics) (0.11.2)\n",
      "Requirement already satisfied: contourpy>=1.0.1 in c:\\users\\acer\\anaconda3\\lib\\site-packages (from matplotlib>=3.3.0->ultralytics) (1.2.0)\n",
      "Requirement already satisfied: cycler>=0.10 in c:\\users\\acer\\anaconda3\\lib\\site-packages (from matplotlib>=3.3.0->ultralytics) (0.10.0)\n",
      "Requirement already satisfied: fonttools>=4.22.0 in c:\\users\\acer\\anaconda3\\lib\\site-packages (from matplotlib>=3.3.0->ultralytics) (4.25.0)\n",
      "Requirement already satisfied: kiwisolver>=1.3.1 in c:\\users\\acer\\anaconda3\\lib\\site-packages (from matplotlib>=3.3.0->ultralytics) (1.3.1)\n",
      "Requirement already satisfied: numpy<2,>=1.21 in c:\\users\\acer\\anaconda3\\lib\\site-packages (from matplotlib>=3.3.0->ultralytics) (1.26.4)\n",
      "Requirement already satisfied: packaging>=20.0 in c:\\users\\acer\\anaconda3\\lib\\site-packages (from matplotlib>=3.3.0->ultralytics) (21.0)\n",
      "Requirement already satisfied: pyparsing>=2.3.1 in c:\\users\\acer\\anaconda3\\lib\\site-packages (from matplotlib>=3.3.0->ultralytics) (3.0.4)\n",
      "Requirement already satisfied: python-dateutil>=2.7 in c:\\users\\acer\\anaconda3\\lib\\site-packages (from matplotlib>=3.3.0->ultralytics) (2.8.2)\n",
      "Requirement already satisfied: importlib-resources>=3.2.0 in c:\\users\\acer\\anaconda3\\lib\\site-packages (from matplotlib>=3.3.0->ultralytics) (6.1.1)\n",
      "Requirement already satisfied: pytz>=2017.3 in c:\\users\\acer\\anaconda3\\lib\\site-packages (from pandas>=1.1.4->ultralytics) (2021.3)\n",
      "Requirement already satisfied: urllib3<1.27,>=1.21.1 in c:\\users\\acer\\anaconda3\\lib\\site-packages (from requests>=2.23.0->ultralytics) (1.26.7)\n",
      "Requirement already satisfied: certifi>=2017.4.17 in c:\\users\\acer\\anaconda3\\lib\\site-packages (from requests>=2.23.0->ultralytics) (2023.7.22)\n",
      "Requirement already satisfied: charset-normalizer~=2.0.0 in c:\\users\\acer\\anaconda3\\lib\\site-packages (from requests>=2.23.0->ultralytics) (2.0.4)\n",
      "Requirement already satisfied: idna<4,>=2.5 in c:\\users\\acer\\anaconda3\\lib\\site-packages (from requests>=2.23.0->ultralytics) (2.10)\n",
      "Requirement already satisfied: typing_extensions in c:\\users\\acer\\anaconda3\\lib\\site-packages (from torch>=1.8.0->ultralytics) (3.10.0.2)\n",
      "Requirement already satisfied: colorama in c:\\users\\acer\\anaconda3\\lib\\site-packages (from tqdm>=4.64.0->ultralytics) (0.4.4)\n",
      "Requirement already satisfied: six in c:\\users\\acer\\anaconda3\\lib\\site-packages (from cycler>=0.10->matplotlib>=3.3.0->ultralytics) (1.16.0)\n",
      "Requirement already satisfied: zipp>=3.1.0 in c:\\users\\acer\\anaconda3\\lib\\site-packages (from importlib-resources>=3.2.0->matplotlib>=3.3.0->ultralytics) (3.6.0)\n",
      "Downloading ultralytics-8.2.15-py3-none-any.whl (756 kB)\n",
      "   ---------------------------------------- 756.9/756.9 kB 1.3 MB/s eta 0:00:00\n",
      "Downloading opencv_python-4.9.0.80-cp37-abi3-win_amd64.whl (38.6 MB)\n",
      "   ---------------------------------------- 38.6/38.6 MB 1.2 MB/s eta 0:00:00\n",
      "Downloading thop-0.1.1.post2209072238-py3-none-any.whl (15 kB)\n",
      "Downloading tqdm-4.66.4-py3-none-any.whl (78 kB)\n",
      "   ---------------------------------------- 78.3/78.3 kB 2.1 MB/s eta 0:00:00\n",
      "Downloading py_cpuinfo-9.0.0-py3-none-any.whl (22 kB)\n",
      "Installing collected packages: py-cpuinfo, tqdm, opencv-python, thop, ultralytics\n",
      "  Attempting uninstall: tqdm\n",
      "    Found existing installation: tqdm 4.62.3\n",
      "    Uninstalling tqdm-4.62.3:\n",
      "      Successfully uninstalled tqdm-4.62.3\n"
     ]
    },
    {
     "name": "stderr",
     "output_type": "stream",
     "text": [
      "DEPRECATION: pyodbc 4.0.0-unsupported has a non-standard version number. pip 24.1 will enforce this behaviour change. A possible replacement is to upgrade to a newer version of pyodbc or contact the author to suggest that they release a version with a conforming version number. Discussion can be found at https://github.com/pypa/pip/issues/12063\n",
      "ERROR: Could not install packages due to an OSError: [WinError 5] Отказано в доступе: 'C:\\\\Users\\\\Acer\\\\anaconda3\\\\Lib\\\\site-packages\\\\cv2\\\\cv2.pyd'\n",
      "Consider using the `--user` option or check the permissions.\n",
      "\n"
     ]
    },
    {
     "name": "stdout",
     "output_type": "stream",
     "text": [
      "loading Roboflow workspace...\n",
      "loading Roboflow project...\n"
     ]
    }
   ],
   "source": [
    "!pip install roboflow\n",
    "!pip install ultralytics\n",
    "\n",
    "from roboflow import Roboflow\n",
    "rf = Roboflow(api_key=\"8iZ6fTbZw2tSHHGAZa3M\")\n",
    "project = rf.workspace(\"viren-dhanwani\").project(\"tennis-ball-detection\")\n",
    "version = project.version(6)\n",
    "dataset = version.download(\"yolov5\")\n"
   ]
  },
  {
   "cell_type": "code",
   "execution_count": 8,
   "id": "be304024",
   "metadata": {},
   "outputs": [
    {
     "data": {
      "text/plain": [
       "'tennis-ball-detection-6\\\\tennis-ball-detection-6\\\\valid'"
      ]
     },
     "execution_count": 8,
     "metadata": {},
     "output_type": "execute_result"
    }
   ],
   "source": [
    "import shutil\n",
    "shutil.move(\"tennis-ball-detection-6\\\\train\", \"tennis-ball-detection-6\\\\tennis-ball-detection-6\\\\train\")\n",
    "shutil.move(\"tennis-ball-detection-6\\\\test\", \"tennis-ball-detection-6\\\\tennis-ball-detection-6\\\\test\")\n",
    "shutil.move(\"tennis-ball-detection-6\\\\valid\", \"tennis-ball-detection-6\\\\tennis-ball-detection-6\\\\valid\")\n"
   ]
  },
  {
   "cell_type": "code",
   "execution_count": 15,
   "id": "8c0f4b30",
   "metadata": {},
   "outputs": [
    {
     "name": "stdout",
     "output_type": "stream",
     "text": [
      "^C\n"
     ]
    }
   ],
   "source": [
    "!yolo task = detect mode = train model = yolov5l6u.pt data = {dataset.location}\\\\data.yaml epochs = 100 imgsz = 640"
   ]
  },
  {
   "cell_type": "code",
   "execution_count": 16,
   "id": "90df8ccd",
   "metadata": {},
   "outputs": [
    {
     "data": {
      "text/plain": [
       "'C:\\\\Users\\\\Acer\\\\PycharmProjects\\\\YOLO8TENNISANALYSIS\\\\training\\\\tennis-ball-detection-6'"
      ]
     },
     "execution_count": 16,
     "metadata": {},
     "output_type": "execute_result"
    }
   ],
   "source": [
    "dataset.location"
   ]
  },
  {
   "cell_type": "code",
   "execution_count": null,
   "id": "52a34319",
   "metadata": {},
   "outputs": [],
   "source": []
  }
 ],
 "metadata": {
  "kernelspec": {
   "display_name": "Python 3 (ipykernel)",
   "language": "python",
   "name": "python3"
  },
  "language_info": {
   "codemirror_mode": {
    "name": "ipython",
    "version": 3
   },
   "file_extension": ".py",
   "mimetype": "text/x-python",
   "name": "python",
   "nbconvert_exporter": "python",
   "pygments_lexer": "ipython3",
   "version": "3.9.7"
  }
 },
 "nbformat": 4,
 "nbformat_minor": 5
}
